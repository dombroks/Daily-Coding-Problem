{
  "nbformat": 4,
  "nbformat_minor": 0,
  "metadata": {
    "colab": {
      "name": "Jane-Street_Problem_00.py",
      "provenance": [],
      "collapsed_sections": [],
      "authorship_tag": "ABX9TyNjVD8LZIXPtNgTTpbBth69",
      "include_colab_link": true
    },
    "kernelspec": {
      "name": "python3",
      "display_name": "Python 3"
    }
  },
  "cells": [
    {
      "cell_type": "markdown",
      "metadata": {
        "id": "view-in-github",
        "colab_type": "text"
      },
      "source": [
        "<a href=\"https://colab.research.google.com/github/dombroks/Daily-Coding-Problem/blob/master/Jane-Street_Problems/Jane_Street_Problem_00.ipynb\" target=\"_parent\"><img src=\"https://colab.research.google.com/assets/colab-badge.svg\" alt=\"Open In Colab\"/></a>"
      ]
    },
    {
      "cell_type": "markdown",
      "metadata": {
        "id": "7SsvHMEvQN2w",
        "colab_type": "text"
      },
      "source": [
        "This problem was asked by Jane Street.\n",
        "\n",
        "cons(a, b) constructs a pair, and car(pair) and cdr(pair) returns the first and last element of that pair. For example, car(cons(3, 4)) returns 3, and cdr(cons(3, 4)) returns 4.\n",
        "\n",
        "Given this implementation of cons:\n",
        "\n",
        "def cons(a, b):\n",
        "    def pair(f):\n",
        "        return f(a, b)\n",
        "    return pair\n",
        "\n",
        "Implement car and cdr"
      ]
    },
    {
      "cell_type": "code",
      "metadata": {
        "id": "luxgdTQmON3V",
        "colab_type": "code",
        "colab": {}
      },
      "source": [
        "def cons(a, b):\n",
        "    def pair(f):\n",
        "        return f(a, b)\n",
        "    return pair"
      ],
      "execution_count": 2,
      "outputs": []
    },
    {
      "cell_type": "code",
      "metadata": {
        "id": "tNOGdn5ROUvs",
        "colab_type": "code",
        "colab": {}
      },
      "source": [
        "def car(pair):\n",
        "    def return_first(a, b):\n",
        "        return a\n",
        "    return pair(return_first)\n",
        "\n",
        "def cdr(pair):\n",
        "    def return_last(a, b):\n",
        "        return b\n",
        "    return pair(return_last)\n",
        "    "
      ],
      "execution_count": 4,
      "outputs": []
    }
  ]
}