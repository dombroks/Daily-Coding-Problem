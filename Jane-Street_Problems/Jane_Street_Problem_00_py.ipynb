{
  "nbformat": 4,
  "nbformat_minor": 0,
  "metadata": {
    "colab": {
      "name": "Jane-Street_Problem_00.py",
      "provenance": [],
      "authorship_tag": "ABX9TyPKcwlkhW0pjofKOdUegV3M"
    },
    "kernelspec": {
      "name": "python3",
      "display_name": "Python 3"
    }
  },
  "cells": [
    {
      "cell_type": "code",
      "metadata": {
        "id": "luxgdTQmON3V",
        "colab_type": "code",
        "colab": {}
      },
      "source": [
        "def cons(a, b):\n",
        "    def pair(f):\n",
        "        return f(a, b)\n",
        "    return pair"
      ],
      "execution_count": 2,
      "outputs": []
    },
    {
      "cell_type": "code",
      "metadata": {
        "id": "tNOGdn5ROUvs",
        "colab_type": "code",
        "colab": {}
      },
      "source": [
        "def car(pair):\n",
        "    def return_first(a, b):\n",
        "        return a\n",
        "    return pair(return_first)\n",
        "\n",
        "def cdr(pair):\n",
        "    def return_last(a, b):\n",
        "        return b\n",
        "    return pair(return_last)\n",
        "    "
      ],
      "execution_count": 4,
      "outputs": []
    },
    {
      "cell_type": "code",
      "metadata": {
        "id": "NKwwsalNOidQ",
        "colab_type": "code",
        "colab": {
          "base_uri": "https://localhost:8080/",
          "height": 34
        },
        "outputId": "8a677c67-f2d2-42f3-925f-9ec9e8ed5a74"
      },
      "source": [
        "cons(5,2)"
      ],
      "execution_count": 5,
      "outputs": [
        {
          "output_type": "execute_result",
          "data": {
            "text/plain": [
              "<function __main__.cons.<locals>.pair>"
            ]
          },
          "metadata": {
            "tags": []
          },
          "execution_count": 5
        }
      ]
    },
    {
      "cell_type": "code",
      "metadata": {
        "id": "bswOYprOOnQq",
        "colab_type": "code",
        "colab": {
          "base_uri": "https://localhost:8080/",
          "height": 34
        },
        "outputId": "27b7082a-26b9-41c5-f5c8-b0ca1aeb5582"
      },
      "source": [
        "car(cons(5,2))"
      ],
      "execution_count": 7,
      "outputs": [
        {
          "output_type": "execute_result",
          "data": {
            "text/plain": [
              "5"
            ]
          },
          "metadata": {
            "tags": []
          },
          "execution_count": 7
        }
      ]
    }
  ]
}