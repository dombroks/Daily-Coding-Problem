{
  "nbformat": 4,
  "nbformat_minor": 0,
  "metadata": {
    "colab": {
      "name": "Google_Problems_02.ipynb",
      "provenance": [],
      "collapsed_sections": [],
      "authorship_tag": "ABX9TyPi1+evCLrRmKtWGUAge6SO"
    },
    "kernelspec": {
      "name": "python3",
      "display_name": "Python 3"
    }
  },
  "cells": [
    {
      "cell_type": "markdown",
      "metadata": {
        "id": "yeZYvE6Ooi7b",
        "colab_type": "text"
      },
      "source": [
        "This problem was asked by Google.\n",
        "\n",
        "An XOR linked list is a more memory efficient doubly linked list. Instead of each node holding next and prev fields, it holds a field named both, which is an XOR of the next node and the previous node. Implement an XOR linked list; it has an add(element) which adds the element to the end, and a get(index) which returns the node at index.\n",
        "\n",
        "If using a language that has no pointers (such as Python), you can assume you have access to get_pointer and dereference_pointer functions that converts between nodes and memory addresses.\n",
        "\n",
        "Note : This is not my solution but I improved it to be like this."
      ]
    },
    {
      "cell_type": "code",
      "metadata": {
        "id": "73vUBTqRmA2U",
        "colab_type": "code",
        "colab": {}
      },
      "source": [
        "\n",
        "# node structure.\n",
        "class Node:\n",
        "    def __init__(self, val):\n",
        "        self.val = val\n",
        "        self.both = 0\n",
        "\n",
        "class XORLinkedList:\n",
        "    def __init__(self):\n",
        "        self.head = Node(None)\n",
        "        self.tail = Node(None)\n",
        "\n",
        "    def add(self,element):\n",
        "        newNode = Node(element)\n",
        "        if self.head.val == None:\n",
        "            self.head = self.tail = newNode\n",
        "        else:\n",
        "            newNode.both = get_pointer(self.tail)\n",
        "            self.tail.both = self.tail.both ^ get_pointer(newNode)\n",
        "            self.tail = newNode\n",
        "\n",
        "    def get(self,ind):\n",
        "        previousAddr = 0\n",
        "        current = self.head\n",
        "        for i in range(0,ind-1):\n",
        "            temp = get_pointer(current)\n",
        "            current = dereference_pointer(previousAddr^(current.both))\n",
        "            previousAddr = temp\n",
        "            if curret.both == previousAddr and i < ind-2:\n",
        "                print(\"Invalid index.\")\n",
        "                return None\n",
        "        return current.val\n",
        "\n",
        "\n",
        "if __name__ == \"__main__\":\n",
        "    xorLinkedList = XORLinkedList()\n",
        "\n",
        "    while True:\n",
        "        choice = int(input(\"1. ADD\\n2. GET\\n3. EXIT\\n\").strip())\n",
        "        if choice == 1:\n",
        "            element = int(input(\"Enter the element: \").strip())\n",
        "            xorLinkedList.add(element)\n",
        "        elif choice == 2:\n",
        "            ind = int(input(\"Enter the index: \").strip())\n",
        "            node = xorLinkedList.get(ind)\n",
        "            if node != None :\n",
        "                print(node)\n",
        "        elif choice == 3:\n",
        "            exit(0)\n",
        "        else:\n",
        "            print(\"Invalid choice.\")\n",
        "            "
      ],
      "execution_count": null,
      "outputs": []
    }
  ]
}